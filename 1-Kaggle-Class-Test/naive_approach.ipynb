{
 "cells": [
  {
   "cell_type": "code",
   "execution_count": 1,
   "metadata": {},
   "outputs": [],
   "source": [
    "import numpy as np\n",
    "import pandas as pd\n",
    "from sklearn.model_selection import train_test_split"
   ]
  },
  {
   "cell_type": "code",
   "execution_count": 2,
   "metadata": {},
   "outputs": [],
   "source": [
    "data = pd.read_csv('./data/train.csv')"
   ]
  },
  {
   "cell_type": "code",
   "execution_count": 3,
   "metadata": {},
   "outputs": [
    {
     "data": {
      "text/html": [
       "<div>\n",
       "<style scoped>\n",
       "    .dataframe tbody tr th:only-of-type {\n",
       "        vertical-align: middle;\n",
       "    }\n",
       "\n",
       "    .dataframe tbody tr th {\n",
       "        vertical-align: top;\n",
       "    }\n",
       "\n",
       "    .dataframe thead th {\n",
       "        text-align: right;\n",
       "    }\n",
       "</style>\n",
       "<table border=\"1\" class=\"dataframe\">\n",
       "  <thead>\n",
       "    <tr style=\"text-align: right;\">\n",
       "      <th></th>\n",
       "      <th>id</th>\n",
       "      <th>N_Days</th>\n",
       "      <th>Drug</th>\n",
       "      <th>Age</th>\n",
       "      <th>Sex</th>\n",
       "      <th>Ascites</th>\n",
       "      <th>Hepatomegaly</th>\n",
       "      <th>Spiders</th>\n",
       "      <th>Edema</th>\n",
       "      <th>Bilirubin</th>\n",
       "      <th>Cholesterol</th>\n",
       "      <th>Albumin</th>\n",
       "      <th>Copper</th>\n",
       "      <th>Alk_Phos</th>\n",
       "      <th>SGOT</th>\n",
       "      <th>Tryglicerides</th>\n",
       "      <th>Platelets</th>\n",
       "      <th>Prothrombin</th>\n",
       "      <th>Stage</th>\n",
       "      <th>Status</th>\n",
       "    </tr>\n",
       "  </thead>\n",
       "  <tbody>\n",
       "    <tr>\n",
       "      <th>0</th>\n",
       "      <td>0</td>\n",
       "      <td>3850.0</td>\n",
       "      <td>D-penicillamine</td>\n",
       "      <td>17841.0</td>\n",
       "      <td>M</td>\n",
       "      <td>N</td>\n",
       "      <td>N</td>\n",
       "      <td>N</td>\n",
       "      <td>N</td>\n",
       "      <td>1.8</td>\n",
       "      <td>NaN</td>\n",
       "      <td>3.70</td>\n",
       "      <td>33.0</td>\n",
       "      <td>1268.0</td>\n",
       "      <td>99.00</td>\n",
       "      <td>NaN</td>\n",
       "      <td>338.0</td>\n",
       "      <td>10.2</td>\n",
       "      <td>3.0</td>\n",
       "      <td>D</td>\n",
       "    </tr>\n",
       "    <tr>\n",
       "      <th>1</th>\n",
       "      <td>1</td>\n",
       "      <td>2157.0</td>\n",
       "      <td>Placebo</td>\n",
       "      <td>15628.0</td>\n",
       "      <td>F</td>\n",
       "      <td>N</td>\n",
       "      <td>N</td>\n",
       "      <td>N</td>\n",
       "      <td>N</td>\n",
       "      <td>0.5</td>\n",
       "      <td>303.0</td>\n",
       "      <td>4.09</td>\n",
       "      <td>11.0</td>\n",
       "      <td>657.0</td>\n",
       "      <td>77.50</td>\n",
       "      <td>80.0</td>\n",
       "      <td>309.0</td>\n",
       "      <td>9.9</td>\n",
       "      <td>3.0</td>\n",
       "      <td>C</td>\n",
       "    </tr>\n",
       "    <tr>\n",
       "      <th>2</th>\n",
       "      <td>2</td>\n",
       "      <td>4427.0</td>\n",
       "      <td>Placebo</td>\n",
       "      <td>20392.0</td>\n",
       "      <td>F</td>\n",
       "      <td>N</td>\n",
       "      <td>N</td>\n",
       "      <td>N</td>\n",
       "      <td>N</td>\n",
       "      <td>0.8</td>\n",
       "      <td>NaN</td>\n",
       "      <td>3.60</td>\n",
       "      <td>13.0</td>\n",
       "      <td>10396.8</td>\n",
       "      <td>128.65</td>\n",
       "      <td>NaN</td>\n",
       "      <td>164.0</td>\n",
       "      <td>11.0</td>\n",
       "      <td>2.0</td>\n",
       "      <td>C</td>\n",
       "    </tr>\n",
       "    <tr>\n",
       "      <th>3</th>\n",
       "      <td>3</td>\n",
       "      <td>2149.0</td>\n",
       "      <td>NaN</td>\n",
       "      <td>13514.0</td>\n",
       "      <td>F</td>\n",
       "      <td>NaN</td>\n",
       "      <td>NaN</td>\n",
       "      <td>NaN</td>\n",
       "      <td>N</td>\n",
       "      <td>0.6</td>\n",
       "      <td>NaN</td>\n",
       "      <td>4.19</td>\n",
       "      <td>NaN</td>\n",
       "      <td>NaN</td>\n",
       "      <td>NaN</td>\n",
       "      <td>NaN</td>\n",
       "      <td>248.0</td>\n",
       "      <td>10.5</td>\n",
       "      <td>2.0</td>\n",
       "      <td>C</td>\n",
       "    </tr>\n",
       "    <tr>\n",
       "      <th>4</th>\n",
       "      <td>4</td>\n",
       "      <td>2202.0</td>\n",
       "      <td>NaN</td>\n",
       "      <td>23741.0</td>\n",
       "      <td>F</td>\n",
       "      <td>NaN</td>\n",
       "      <td>NaN</td>\n",
       "      <td>NaN</td>\n",
       "      <td>N</td>\n",
       "      <td>0.6</td>\n",
       "      <td>NaN</td>\n",
       "      <td>3.14</td>\n",
       "      <td>NaN</td>\n",
       "      <td>NaN</td>\n",
       "      <td>NaN</td>\n",
       "      <td>NaN</td>\n",
       "      <td>76.0</td>\n",
       "      <td>10.3</td>\n",
       "      <td>4.0</td>\n",
       "      <td>C</td>\n",
       "    </tr>\n",
       "  </tbody>\n",
       "</table>\n",
       "</div>"
      ],
      "text/plain": [
       "   id  N_Days             Drug      Age Sex Ascites Hepatomegaly Spiders  \\\n",
       "0   0  3850.0  D-penicillamine  17841.0   M       N            N       N   \n",
       "1   1  2157.0          Placebo  15628.0   F       N            N       N   \n",
       "2   2  4427.0          Placebo  20392.0   F       N            N       N   \n",
       "3   3  2149.0              NaN  13514.0   F     NaN          NaN     NaN   \n",
       "4   4  2202.0              NaN  23741.0   F     NaN          NaN     NaN   \n",
       "\n",
       "  Edema  Bilirubin  Cholesterol  Albumin  Copper  Alk_Phos    SGOT  \\\n",
       "0     N        1.8          NaN     3.70    33.0    1268.0   99.00   \n",
       "1     N        0.5        303.0     4.09    11.0     657.0   77.50   \n",
       "2     N        0.8          NaN     3.60    13.0   10396.8  128.65   \n",
       "3     N        0.6          NaN     4.19     NaN       NaN     NaN   \n",
       "4     N        0.6          NaN     3.14     NaN       NaN     NaN   \n",
       "\n",
       "   Tryglicerides  Platelets  Prothrombin  Stage Status  \n",
       "0            NaN      338.0         10.2    3.0      D  \n",
       "1           80.0      309.0          9.9    3.0      C  \n",
       "2            NaN      164.0         11.0    2.0      C  \n",
       "3            NaN      248.0         10.5    2.0      C  \n",
       "4            NaN       76.0         10.3    4.0      C  "
      ]
     },
     "execution_count": 3,
     "metadata": {},
     "output_type": "execute_result"
    }
   ],
   "source": [
    "data.head()"
   ]
  },
  {
   "cell_type": "code",
   "execution_count": 4,
   "metadata": {},
   "outputs": [
    {
     "data": {
      "text/plain": [
       "0.4238"
      ]
     },
     "execution_count": 4,
     "metadata": {},
     "output_type": "execute_result"
    }
   ],
   "source": [
    "data.dropna().shape[0]/data.shape[0]"
   ]
  },
  {
   "cell_type": "code",
   "execution_count": 5,
   "metadata": {},
   "outputs": [],
   "source": [
    "data = data.dropna()"
   ]
  },
  {
   "cell_type": "code",
   "execution_count": 6,
   "metadata": {},
   "outputs": [],
   "source": [
    "# data[''].unique()"
   ]
  },
  {
   "cell_type": "code",
   "execution_count": 7,
   "metadata": {},
   "outputs": [
    {
     "name": "stdout",
     "output_type": "stream",
     "text": [
      "<class 'pandas.core.frame.DataFrame'>\n",
      "Index: 6357 entries, 1 to 14999\n",
      "Data columns (total 20 columns):\n",
      " #   Column         Non-Null Count  Dtype  \n",
      "---  ------         --------------  -----  \n",
      " 0   id             6357 non-null   int64  \n",
      " 1   N_Days         6357 non-null   float64\n",
      " 2   Drug           6357 non-null   object \n",
      " 3   Age            6357 non-null   float64\n",
      " 4   Sex            6357 non-null   object \n",
      " 5   Ascites        6357 non-null   object \n",
      " 6   Hepatomegaly   6357 non-null   object \n",
      " 7   Spiders        6357 non-null   object \n",
      " 8   Edema          6357 non-null   object \n",
      " 9   Bilirubin      6357 non-null   float64\n",
      " 10  Cholesterol    6357 non-null   float64\n",
      " 11  Albumin        6357 non-null   float64\n",
      " 12  Copper         6357 non-null   float64\n",
      " 13  Alk_Phos       6357 non-null   float64\n",
      " 14  SGOT           6357 non-null   float64\n",
      " 15  Tryglicerides  6357 non-null   float64\n",
      " 16  Platelets      6357 non-null   float64\n",
      " 17  Prothrombin    6357 non-null   float64\n",
      " 18  Stage          6357 non-null   float64\n",
      " 19  Status         6357 non-null   object \n",
      "dtypes: float64(12), int64(1), object(7)\n",
      "memory usage: 1.0+ MB\n"
     ]
    }
   ],
   "source": [
    "data.info()"
   ]
  },
  {
   "cell_type": "code",
   "execution_count": 8,
   "metadata": {},
   "outputs": [
    {
     "data": {
      "text/plain": [
       "id               0\n",
       "N_Days           0\n",
       "Drug             0\n",
       "Age              0\n",
       "Sex              0\n",
       "Ascites          0\n",
       "Hepatomegaly     0\n",
       "Spiders          0\n",
       "Edema            0\n",
       "Bilirubin        0\n",
       "Cholesterol      0\n",
       "Albumin          0\n",
       "Copper           0\n",
       "Alk_Phos         0\n",
       "SGOT             0\n",
       "Tryglicerides    0\n",
       "Platelets        0\n",
       "Prothrombin      0\n",
       "Stage            0\n",
       "Status           0\n",
       "dtype: int64"
      ]
     },
     "execution_count": 8,
     "metadata": {},
     "output_type": "execute_result"
    }
   ],
   "source": [
    "data.isna().sum()"
   ]
  },
  {
   "cell_type": "code",
   "execution_count": 9,
   "metadata": {},
   "outputs": [
    {
     "data": {
      "text/plain": [
       "1        2157.0\n",
       "13       4523.0\n",
       "14       1945.0\n",
       "16       2178.0\n",
       "17       2443.0\n",
       "          ...  \n",
       "14992    3445.0\n",
       "14993    1295.0\n",
       "14995     549.0\n",
       "14997    1083.0\n",
       "14999    2689.0\n",
       "Name: N_Days, Length: 6357, dtype: float64"
      ]
     },
     "execution_count": 9,
     "metadata": {},
     "output_type": "execute_result"
    }
   ],
   "source": [
    "data['N_Days']"
   ]
  },
  {
   "cell_type": "code",
   "execution_count": 10,
   "metadata": {},
   "outputs": [],
   "source": [
    "X = data.dropna().drop(columns=['Drug', 'Hepatomegaly', 'Spiders', 'Edema', 'Sex', 'Ascites', 'Status'])\n",
    "y = data.dropna()['Status']"
   ]
  },
  {
   "cell_type": "code",
   "execution_count": 11,
   "metadata": {},
   "outputs": [],
   "source": [
    "from sklearn.svm import SVC\n",
    "from sklearn.preprocessing import OneHotEncoder as OHE, LabelEncoder as LE"
   ]
  },
  {
   "cell_type": "code",
   "execution_count": 12,
   "metadata": {},
   "outputs": [],
   "source": [
    "ohe = OHE().fit_transform(data.dropna()[['Drug', 'Hepatomegaly', 'Spiders', 'Edema', 'Sex', 'Ascites']].values).toarray()\n",
    "le = LE().fit_transform(y)"
   ]
  },
  {
   "cell_type": "code",
   "execution_count": 13,
   "metadata": {},
   "outputs": [],
   "source": [
    "X = np.column_stack([X, ohe])"
   ]
  },
  {
   "cell_type": "code",
   "execution_count": 14,
   "metadata": {},
   "outputs": [],
   "source": [
    "xtrain, xtest, ytrain, ytest = train_test_split(X, y, train_size=0.25, stratify=y)"
   ]
  },
  {
   "cell_type": "code",
   "execution_count": 15,
   "metadata": {},
   "outputs": [],
   "source": [
    "model = SVC().fit(xtrain, ytrain)"
   ]
  },
  {
   "cell_type": "code",
   "execution_count": 16,
   "metadata": {},
   "outputs": [
    {
     "name": "stdout",
     "output_type": "stream",
     "text": [
      "0.7111390811831341\n",
      "0.7135067114093959\n"
     ]
    }
   ],
   "source": [
    "from sklearn.metrics import accuracy_score, precision_score, recall_score\n",
    "\n",
    "print(accuracy_score(ytrain, model.predict(xtrain)))\n",
    "print(accuracy_score(ytest, model.predict(xtest)))\n"
   ]
  },
  {
   "cell_type": "code",
   "execution_count": 17,
   "metadata": {},
   "outputs": [
    {
     "data": {
      "text/plain": [
       "Status\n",
       "C     4432\n",
       "D     1732\n",
       "CL     193\n",
       "Name: count, dtype: int64"
      ]
     },
     "execution_count": 17,
     "metadata": {},
     "output_type": "execute_result"
    }
   ],
   "source": [
    "data['Status'].value_counts()"
   ]
  },
  {
   "cell_type": "code",
   "execution_count": null,
   "metadata": {},
   "outputs": [],
   "source": []
  },
  {
   "cell_type": "code",
   "execution_count": null,
   "metadata": {},
   "outputs": [],
   "source": []
  }
 ],
 "metadata": {
  "kernelspec": {
   "display_name": "Python 3",
   "language": "python",
   "name": "python3"
  },
  "language_info": {
   "codemirror_mode": {
    "name": "ipython",
    "version": 3
   },
   "file_extension": ".py",
   "mimetype": "text/x-python",
   "name": "python",
   "nbconvert_exporter": "python",
   "pygments_lexer": "ipython3",
   "version": "3.12.4"
  }
 },
 "nbformat": 4,
 "nbformat_minor": 2
}
